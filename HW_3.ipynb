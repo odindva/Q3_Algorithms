{
 "cells": [
  {
   "cell_type": "code",
   "execution_count": 1,
   "metadata": {
    "colab": {},
    "colab_type": "code",
    "id": "zhwkeWtb1O0w"
   },
   "outputs": [],
   "source": [
    "import numpy as np\n",
    "import matplotlib.pyplot as plt"
   ]
  },
  {
   "cell_type": "code",
   "execution_count": 2,
   "metadata": {
    "colab": {},
    "colab_type": "code",
    "id": "FeKFn2yb1To4"
   },
   "outputs": [],
   "source": [
    "X = np.array([[1, 1, 1, 1, 1, 1, 1, 1, 1, 1],\n",
    "              [1, 1, 2, 1, 3, 0, 5, 10, 1, 2],\n",
    "              [500, 700, 750, 600, 1450,\n",
    "               800, 1500, 2000, 450, 1000],\n",
    "              [1, 1, 2, 1, 2, 1, 3, 3, 1, 2]], dtype = np.float64)\n",
    "\n",
    "y = np.array([0, 0, 1, 0, 1, 0, 1, 0, 1, 1], dtype = np.float64)"
   ]
  },
  {
   "cell_type": "code",
   "execution_count": 3,
   "metadata": {
    "colab": {},
    "colab_type": "code",
    "id": "M-aO1NTxOUfo"
   },
   "outputs": [],
   "source": [
    "def calc_std_feat(x):\n",
    "    res = (x - x.mean()) / x.std()\n",
    "    return res"
   ]
  },
  {
   "cell_type": "markdown",
   "source": [
    "### 1*.\n",
    "Измените функцию calc_logloss так, чтобы нули по возможности не попадали в np.log."
   ],
   "metadata": {
    "collapsed": false
   }
  },
  {
   "cell_type": "code",
   "execution_count": 4,
   "metadata": {
    "colab": {},
    "colab_type": "code",
    "id": "qMR5pOA38dDw"
   },
   "outputs": [],
   "source": [
    "def calc_logloss(y, y_pred, e=1e-8):\n",
    "    y_pred[y_pred == 0] = e\n",
    "    y_pred[y_pred == 1] = 1-e\n",
    "    err = - np.mean(y * np.log(y_pred) + (1.0 - y) * np.log(1.0 - y_pred))\n",
    "    return err"
   ]
  },
  {
   "cell_type": "code",
   "execution_count": 5,
   "metadata": {
    "colab": {},
    "colab_type": "code",
    "id": "EEF9rWPNDnss"
   },
   "outputs": [],
   "source": [
    "def sigmoid(z):\n",
    "    res = 1 / (1 + np.exp(-z))\n",
    "    return res"
   ]
  },
  {
   "cell_type": "code",
   "execution_count": 6,
   "metadata": {
    "colab": {},
    "colab_type": "code",
    "id": "e6TH-mkPItb6"
   },
   "outputs": [],
   "source": [
    "### Logistic Regression"
   ]
  },
  {
   "cell_type": "code",
   "execution_count": 7,
   "outputs": [],
   "source": [
    "from sklearn.metrics import roc_auc_score"
   ],
   "metadata": {
    "collapsed": false,
    "pycharm": {
     "name": "#%%\n"
    }
   }
  },
  {
   "cell_type": "code",
   "execution_count": 8,
   "metadata": {
    "colab": {},
    "colab_type": "code",
    "id": "qtgUN3LW-UIq"
   },
   "outputs": [],
   "source": [
    "def eval_model(X, y, iterations, eta=1e-4, metric: callable = roc_auc_score):\n",
    "    np.random.seed(42)\n",
    "    W = np.random.randn(X.shape[0])\n",
    "    n = X.shape[1]\n",
    "    i, err = 0, 0\n",
    "    for i in range(1, iterations+1):\n",
    "        z = np.dot(W, X)\n",
    "        y_pred = sigmoid(z)\n",
    "        err = calc_logloss(y, y_pred)\n",
    "        W -= eta * (1/n * np.dot((y_pred - y), X.T))\n",
    "    if i % (iterations / 1000) == 0:\n",
    "        print(i, W, err, metric(y_true=y, y_score=sigmoid(W @ X)))\n",
    "    return W"
   ]
  },
  {
   "cell_type": "markdown",
   "source": [
    "### 2.\n",
    "Подберите аргументы функции eval_model для логистической регрессии таким образом, чтобы log loss был минимальным."
   ],
   "metadata": {
    "collapsed": false
   }
  },
  {
   "cell_type": "code",
   "execution_count": 9,
   "metadata": {
    "colab": {
     "base_uri": "https://localhost:8080/",
     "height": 190
    },
    "colab_type": "code",
    "id": "oqX7loklBmYZ",
    "outputId": "f4849295-1f14-40d8-c8f2-d1b002e130c5"
   },
   "outputs": [
    {
     "name": "stdout",
     "output_type": "stream",
     "text": [
      "\n",
      "eta=1e+00:\n",
      "5000 [-142.20328298 -361.53825697 -299.34953546  510.6230347 ] 9.210340374463803 0.5\n",
      "\n",
      "eta=1e-01:\n"
     ]
    },
    {
     "name": "stderr",
     "output_type": "stream",
     "text": [
      "<ipython-input-5-304f158d4adf>:2: RuntimeWarning: overflow encountered in exp\n",
      "  res = 1 / (1 + np.exp(-z))\n",
      "<ipython-input-5-304f158d4adf>:2: RuntimeWarning: overflow encountered in exp\n",
      "  res = 1 / (1 + np.exp(-z))\n"
     ]
    },
    {
     "name": "stdout",
     "output_type": "stream",
     "text": [
      "5000 [-13.60328552 -36.79826351   3.14799581  52.5530304 ] 9.210340374463803 0.5\n",
      "\n",
      "eta=1e-02:\n",
      "5000"
     ]
    },
    {
     "name": "stderr",
     "output_type": "stream",
     "text": [
      "<ipython-input-5-304f158d4adf>:2: RuntimeWarning: overflow encountered in exp\n",
      "  res = 1 / (1 + np.exp(-z))\n"
     ]
    },
    {
     "name": "stdout",
     "output_type": "stream",
     "text": [
      " [-0.91929485 -3.81662684 -4.37503497  6.61626835] 9.210340374463803 0.5\n",
      "\n",
      "eta=1e-03:\n",
      "5000 [ 0.35254905 -0.5001446   0.30755351  2.03038888] 105.28140486926335 0.5\n",
      "\n",
      "eta=1e-04:\n"
     ]
    },
    {
     "name": "stderr",
     "output_type": "stream",
     "text": [
      "<ipython-input-5-304f158d4adf>:2: RuntimeWarning: overflow encountered in exp\n",
      "  res = 1 / (1 + np.exp(-z))\n"
     ]
    },
    {
     "name": "stdout",
     "output_type": "stream",
     "text": [
      "5000 [ 0.474378   -0.1676121   0.04121473  1.56894996] 2.849079424767922 0.6599999999999999\n",
      "\n",
      "eta=1e-05:\n",
      "5000 [ 0.49314177 -0.14151841 -0.00414786  1.52547952] 0.8471318040241776 0.6\n",
      "\n",
      "eta=1e-06:\n",
      "5000 [ 0.49571367 -0.13987934 -0.00243104  1.52220861] 0.6047007196670117 0.8400000000000001\n",
      "\n",
      "eta=1e-07:\n",
      "5000 [ 0.49646415 -0.1389143   0.41768854  1.52267986] 9.210340374463803 0.5\n",
      "\n",
      "eta=1e-08:\n",
      "5000 [ 0.49668915 -0.1383293   0.62468854  1.52299486] 9.210340374463803 0.5\n",
      "\n",
      "eta=1e-09:\n",
      "5000 [ 0.49671165 -0.1382708   0.64538854  1.52302636] 9.210340374463803 0.5\n"
     ]
    }
   ],
   "source": [
    "for i in range(10):\n",
    "    eta = 0.1**i\n",
    "    print(f'\\neta={eta:.0e}:')\n",
    "    W = eval_model(X, y, iterations=5000, eta=eta)"
   ]
  },
  {
   "cell_type": "markdown",
   "source": [
    "видим, что при eta=1e-6 logloss минимален, а метрика ROC-AUC максимальна для данного набора"
   ],
   "metadata": {
    "collapsed": false
   }
  },
  {
   "cell_type": "code",
   "execution_count": 10,
   "outputs": [
    {
     "name": "stdout",
     "output_type": "stream",
     "text": [
      "5000 [ 0.49571367 -0.13987934 -0.00243104  1.52220861] 0.6047007196670117 0.8400000000000001\n"
     ]
    }
   ],
   "source": [
    "W = eval_model(X, y, iterations=5000, eta=1e-6)"
   ],
   "metadata": {
    "collapsed": false,
    "pycharm": {
     "name": "#%%\n"
    }
   }
  },
  {
   "cell_type": "markdown",
   "source": [
    "### 3.\n",
    "Создайте функцию calc_pred_proba, возвращающую предсказанную вероятность класса 1 (на вход подаются W, который уже посчитан функцией eval_model и X, на выходе - массив y_pred_proba)."
   ],
   "metadata": {
    "collapsed": false
   }
  },
  {
   "cell_type": "code",
   "execution_count": 11,
   "outputs": [],
   "source": [
    "def calc_pred_proba(W, X):\n",
    "    return sigmoid(np.dot(W, X))"
   ],
   "metadata": {
    "collapsed": false,
    "pycharm": {
     "name": "#%%\n"
    }
   }
  },
  {
   "cell_type": "code",
   "execution_count": 12,
   "outputs": [
    {
     "data": {
      "text/plain": "array([0.65982733, 0.54396557, 0.80800441, 0.60334475, 0.40022935,\n       0.51826521, 0.67181125, 0.23173749, 0.68655806, 0.69621452])"
     },
     "execution_count": 12,
     "metadata": {},
     "output_type": "execute_result"
    }
   ],
   "source": [
    "y_pred_proba = calc_pred_proba(W, X)\n",
    "y_pred_proba"
   ],
   "metadata": {
    "collapsed": false,
    "pycharm": {
     "name": "#%%\n"
    }
   }
  },
  {
   "cell_type": "markdown",
   "source": [
    "### 4.\n",
    "Создайте функцию calc_pred, возвращающую предсказанный класс (на вход подаются W, который уже посчитан функцией eval_model и X, на выходе - массив y_pred)."
   ],
   "metadata": {
    "collapsed": false
   }
  },
  {
   "cell_type": "code",
   "execution_count": 13,
   "outputs": [],
   "source": [
    "def calc_pred(W, X, threshold=0.5):\n",
    "    y = calc_pred_proba(W, X)\n",
    "    y[y > threshold] = 1\n",
    "    y[y <= threshold] = 0\n",
    "    return y"
   ],
   "metadata": {
    "collapsed": false,
    "pycharm": {
     "name": "#%%\n"
    }
   }
  },
  {
   "cell_type": "code",
   "execution_count": 14,
   "outputs": [
    {
     "data": {
      "text/plain": "array([1., 1., 1., 1., 0., 1., 1., 0., 1., 1.])"
     },
     "execution_count": 14,
     "metadata": {},
     "output_type": "execute_result"
    }
   ],
   "source": [
    "y_pred = calc_pred(W, X)\n",
    "y_pred"
   ],
   "metadata": {
    "collapsed": false,
    "pycharm": {
     "name": "#%%\n"
    }
   }
  },
  {
   "cell_type": "markdown",
   "source": [
    "### 5.\n",
    "Посчитайте Accuracy, матрицу ошибок, точность и полноту, а также F1 score."
   ],
   "metadata": {
    "collapsed": false
   }
  },
  {
   "cell_type": "code",
   "execution_count": 15,
   "outputs": [],
   "source": [
    "def error_matrix(y, y_pred):\n",
    "    TP, TN, FP, FN = 0, 0, 0, 0\n",
    "    for i in range(y.shape[0]):\n",
    "        if y[i] > y_pred[i]:\n",
    "            FN += 1\n",
    "        elif y[i] < y_pred[i]:\n",
    "            FP += 1\n",
    "        elif y[i] == 1:\n",
    "            TP += 1\n",
    "        else:\n",
    "            TN += 1\n",
    "    return np.array([[FN, FP], [TN, TP]])  # порядок такой, чтобы обращение было \"говорящим\": TN = array[1][0]"
   ],
   "metadata": {
    "collapsed": false,
    "pycharm": {
     "name": "#%%\n"
    }
   }
  },
  {
   "cell_type": "code",
   "execution_count": 16,
   "outputs": [],
   "source": [
    "def measures(y, y_pred, betta=1):\n",
    "    e_m = error_matrix(y, y_pred)\n",
    "    TP = e_m[1][1]\n",
    "    TN = e_m[1][0]\n",
    "    FP = e_m[0][1]\n",
    "    FN = e_m[0][0]\n",
    "    accuracy = np.mean(y == y_pred)\n",
    "    precision = TP / (TP + FP)\n",
    "    recall = TP / (TP + FN)\n",
    "    FPR = FP / (FP + TN)\n",
    "    F_measure = (1 + betta**2) * precision * recall / (betta**2 * precision + recall)\n",
    "    return accuracy, precision, recall, FPR, F_measure"
   ],
   "metadata": {
    "collapsed": false,
    "pycharm": {
     "name": "#%%\n"
    }
   }
  },
  {
   "cell_type": "code",
   "execution_count": 17,
   "outputs": [
    {
     "data": {
      "text/plain": "(0.5, 0.5, 0.8, 0.8, 0.6153846153846154)"
     },
     "execution_count": 17,
     "metadata": {},
     "output_type": "execute_result"
    }
   ],
   "source": [
    "accuracy, precision, recall, FPR, F_measure = measures(y, y_pred)\n",
    "accuracy, precision, recall, FPR, F_measure"
   ],
   "metadata": {
    "collapsed": false,
    "pycharm": {
     "name": "#%%\n"
    }
   }
  },
  {
   "cell_type": "markdown",
   "source": [
    "### 6.\n",
    "Могла ли модель переобучиться? Почему?"
   ],
   "metadata": {
    "collapsed": false
   }
  },
  {
   "cell_type": "markdown",
   "source": [
    "модель не переобучена, потому что accuracy по модулю далека от 1"
   ],
   "metadata": {
    "collapsed": false
   }
  },
  {
   "cell_type": "markdown",
   "source": [
    "### 7*.\n",
    "Создайте функции eval_model_l1 и eval_model_l2 с применением L1 и L2 регуляризаций соответственно."
   ],
   "metadata": {
    "collapsed": false
   }
  },
  {
   "cell_type": "code",
   "execution_count": 18,
   "outputs": [],
   "source": [
    "evals = dict()\n",
    "evals['eval_model'] = accuracy, precision, recall, FPR, F_measure"
   ],
   "metadata": {
    "collapsed": false,
    "pycharm": {
     "name": "#%%\n"
    }
   }
  },
  {
   "cell_type": "markdown",
   "source": [
    "#### $L_2$ регуляризация"
   ],
   "metadata": {
    "collapsed": false
   }
  },
  {
   "cell_type": "code",
   "execution_count": 19,
   "outputs": [],
   "source": [
    "def eval_model_l2(X, y, iterations, eta=1e-4, lmbda=1e-5, metric: callable = roc_auc_score):\n",
    "    np.random.seed(42)\n",
    "    W = np.random.randn(X.shape[0])\n",
    "    n = X.shape[1]\n",
    "    i, err = 0, 0\n",
    "    for i in range(1, iterations+1):\n",
    "        z = np.dot(W, X)\n",
    "        y_pred = sigmoid(z)\n",
    "        err = calc_logloss(y, y_pred)\n",
    "        W -= eta * (1/n * np.dot((y_pred - y), X.T))\n",
    "        W -= lmbda * sum(W**2)\n",
    "    if i % (iterations / 1000) == 0:\n",
    "        print(i, W, err, metric(y_true=y, y_score=sigmoid(W @ X)))\n",
    "    return W"
   ],
   "metadata": {
    "collapsed": false,
    "pycharm": {
     "name": "#%%\n"
    }
   }
  },
  {
   "cell_type": "code",
   "execution_count": 20,
   "outputs": [
    {
     "name": "stdout",
     "output_type": "stream",
     "text": [
      "5000 [ 0.37577599 -0.25943065 -0.00186926  1.40239255] 0.6120984762009825 0.8\n"
     ]
    }
   ],
   "source": [
    "W = eval_model_l2(X, y, iterations=5000, eta=1e-6)"
   ],
   "metadata": {
    "collapsed": false,
    "pycharm": {
     "name": "#%%\n"
    }
   }
  },
  {
   "cell_type": "code",
   "execution_count": 21,
   "outputs": [],
   "source": [
    "y_pred = calc_pred(W, X)"
   ],
   "metadata": {
    "collapsed": false,
    "pycharm": {
     "name": "#%%\n"
    }
   }
  },
  {
   "cell_type": "code",
   "execution_count": 22,
   "outputs": [
    {
     "data": {
      "text/plain": "(0.5, 0.5, 0.8, 0.8, 0.6153846153846154)"
     },
     "execution_count": 22,
     "metadata": {},
     "output_type": "execute_result"
    }
   ],
   "source": [
    "accuracy, precision, recall, FPR, F_measure = measures(y, y_pred)\n",
    "accuracy, precision, recall, FPR, F_measure"
   ],
   "metadata": {
    "collapsed": false,
    "pycharm": {
     "name": "#%%\n"
    }
   }
  },
  {
   "cell_type": "code",
   "execution_count": 23,
   "outputs": [],
   "source": [
    "evals['eval_model_l2'] = accuracy, precision, recall, FPR, F_measure"
   ],
   "metadata": {
    "collapsed": false,
    "pycharm": {
     "name": "#%%\n"
    }
   }
  },
  {
   "cell_type": "markdown",
   "source": [
    "#### $L_1$ регуляризация"
   ],
   "metadata": {
    "collapsed": false
   }
  },
  {
   "cell_type": "code",
   "execution_count": 24,
   "outputs": [],
   "source": [
    "def eval_model_l1(X, y, iterations, eta=1e-4, lmbda=1e-5, metric: callable = roc_auc_score):\n",
    "    np.random.seed(42)\n",
    "    W = np.random.randn(X.shape[0])\n",
    "    n = X.shape[1]\n",
    "    i, err = 0, 0\n",
    "    for i in range(1, iterations+1):\n",
    "        z = np.dot(W, X)\n",
    "        y_pred = sigmoid(z)\n",
    "        err = calc_logloss(y, y_pred)\n",
    "        W -= eta * (1/n * np.dot((y_pred - y), X.T))\n",
    "        W -= lmbda * sum(np.abs(W))\n",
    "    if i % (iterations / 1000) == 0:\n",
    "        print(i, W, err, metric(y_true=y, y_score=sigmoid(W @ X)))\n",
    "    return W"
   ],
   "metadata": {
    "collapsed": false,
    "pycharm": {
     "name": "#%%\n"
    }
   }
  },
  {
   "cell_type": "code",
   "execution_count": 25,
   "outputs": [
    {
     "name": "stdout",
     "output_type": "stream",
     "text": [
      "5000 [ 0.38635453 -0.24888537 -0.00192084  1.41296025] 0.6111673613945812 0.8\n"
     ]
    }
   ],
   "source": [
    "W = eval_model_l1(X, y, iterations=5000, eta=1e-6)"
   ],
   "metadata": {
    "collapsed": false,
    "pycharm": {
     "name": "#%%\n"
    }
   }
  },
  {
   "cell_type": "code",
   "execution_count": 26,
   "outputs": [],
   "source": [
    "y_pred = calc_pred(W, X)"
   ],
   "metadata": {
    "collapsed": false,
    "pycharm": {
     "name": "#%%\n"
    }
   }
  },
  {
   "cell_type": "code",
   "execution_count": 27,
   "outputs": [
    {
     "data": {
      "text/plain": "(0.5, 0.5, 0.8, 0.8, 0.6153846153846154)"
     },
     "execution_count": 27,
     "metadata": {},
     "output_type": "execute_result"
    }
   ],
   "source": [
    "accuracy, precision, recall, FPR, F_measure = measures(y, y_pred)\n",
    "accuracy, precision, recall, FPR, F_measure"
   ],
   "metadata": {
    "collapsed": false,
    "pycharm": {
     "name": "#%%\n"
    }
   }
  },
  {
   "cell_type": "code",
   "execution_count": 28,
   "outputs": [],
   "source": [
    "evals['eval_model_l1'] = accuracy, precision, recall, FPR, F_measure"
   ],
   "metadata": {
    "collapsed": false,
    "pycharm": {
     "name": "#%%\n"
    }
   }
  },
  {
   "cell_type": "code",
   "execution_count": 29,
   "outputs": [
    {
     "data": {
      "text/plain": "{'eval_model': (0.5, 0.5, 0.8, 0.8, 0.6153846153846154),\n 'eval_model_l2': (0.5, 0.5, 0.8, 0.8, 0.6153846153846154),\n 'eval_model_l1': (0.5, 0.5, 0.8, 0.8, 0.6153846153846154)}"
     },
     "execution_count": 29,
     "metadata": {},
     "output_type": "execute_result"
    }
   ],
   "source": [
    "evals"
   ],
   "metadata": {
    "collapsed": false,
    "pycharm": {
     "name": "#%%\n"
    }
   }
  },
  {
   "cell_type": "markdown",
   "source": [
    "Регуляризация не сработала.\n",
    "Видимо где-то накосячил, но не нашел где"
   ],
   "metadata": {
    "collapsed": false
   }
  }
 ],
 "metadata": {
  "colab": {
   "collapsed_sections": [],
   "name": "Lesson3_.ipynb",
   "provenance": []
  },
  "kernelspec": {
   "display_name": "Python 3",
   "language": "python",
   "name": "python3"
  },
  "language_info": {
   "codemirror_mode": {
    "name": "ipython",
    "version": 3
   },
   "file_extension": ".py",
   "mimetype": "text/x-python",
   "name": "python",
   "nbconvert_exporter": "python",
   "pygments_lexer": "ipython3",
   "version": "3.8.5"
  }
 },
 "nbformat": 4,
 "nbformat_minor": 1
}