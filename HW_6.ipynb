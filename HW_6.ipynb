{
 "nbformat": 4,
 "nbformat_minor": 0,
 "metadata": {
  "colab": {
   "name": "Lesson_6(edited).ipynb",
   "provenance": [],
   "collapsed_sections": [
    "Rg5ilDbTbshs",
    "Z2tMUhhXbsjK"
   ]
  },
  "kernelspec": {
   "display_name": "Python 3",
   "language": "python",
   "name": "python3"
  },
  "language_info": {
   "codemirror_mode": {
    "name": "ipython",
    "version": 3
   },
   "file_extension": ".py",
   "mimetype": "text/x-python",
   "name": "python",
   "nbconvert_exporter": "python",
   "pygments_lexer": "ipython3",
   "version": "3.7.1"
  }
 },
 "cells": [
  {
   "cell_type": "code",
   "execution_count": 1,
   "outputs": [],
   "source": [
    "from sklearn.tree import DecisionTreeRegressor\n",
    "\n",
    "from sklearn import model_selection\n",
    "import numpy as np"
   ],
   "metadata": {
    "collapsed": false,
    "pycharm": {
     "name": "#%%\n"
    }
   }
  },
  {
   "cell_type": "code",
   "execution_count": 2,
   "outputs": [],
   "source": [
    "np.random.seed(42)"
   ],
   "metadata": {
    "collapsed": false,
    "pycharm": {
     "name": "#%%\n"
    }
   }
  },
  {
   "cell_type": "code",
   "execution_count": 3,
   "outputs": [],
   "source": [
    "from sklearn.datasets import load_diabetes"
   ],
   "metadata": {
    "collapsed": false,
    "pycharm": {
     "name": "#%%\n"
    }
   }
  },
  {
   "cell_type": "code",
   "execution_count": 4,
   "outputs": [],
   "source": [
    "X, y = load_diabetes(return_X_y=True)"
   ],
   "metadata": {
    "collapsed": false,
    "pycharm": {
     "name": "#%%\n"
    }
   }
  },
  {
   "cell_type": "markdown",
   "source": [
    "Разделим выборку на обучающую и тестовую в соотношении 75/25."
   ],
   "metadata": {
    "collapsed": false
   }
  },
  {
   "cell_type": "code",
   "execution_count": 5,
   "outputs": [],
   "source": [
    "X_train, X_test, y_train, y_test = model_selection.train_test_split(X, y, test_size=0.25)"
   ],
   "metadata": {
    "collapsed": false,
    "pycharm": {
     "name": "#%%\n"
    }
   }
  },
  {
   "cell_type": "markdown",
   "source": [
    "Напишем функцию, реализующую предсказание в градиентном бустинге."
   ],
   "metadata": {
    "collapsed": false
   }
  },
  {
   "cell_type": "code",
   "execution_count": 6,
   "outputs": [],
   "source": [
    "def gb_predict(X, trees_list, coef_list, eta):\n",
    "    # Реализуемый алгоритм градиентного бустинга будет инициализироваться нулевыми значениями,\n",
    "    # поэтому все деревья из списка trees_list уже являются дополнительными и при предсказании прибавляются с шагом eta\n",
    "    return np.array([sum([eta* coef * alg.predict([x])[0] for alg, coef in zip(trees_list, coef_list)]) for x in X])"
   ],
   "metadata": {
    "collapsed": false,
    "pycharm": {
     "name": "#%%\n"
    }
   }
  },
  {
   "cell_type": "markdown",
   "source": [
    "В качестве функционала ошибки будем использовать среднеквадратичную ошибку. Реализуем соответствующую функцию."
   ],
   "metadata": {
    "collapsed": false
   }
  },
  {
   "cell_type": "code",
   "execution_count": 7,
   "outputs": [],
   "source": [
    "def mean_squared_error(y_real, prediction):\n",
    "    return (sum((y_real - prediction)**2)) / len(y_real)"
   ],
   "metadata": {
    "collapsed": false,
    "pycharm": {
     "name": "#%%\n"
    }
   }
  },
  {
   "cell_type": "markdown",
   "source": [
    "Используем $L_{2}$ loss $L(y, z) = (y-z)^{2},$ ее производная по $z$ примет вид $L'(y, z) = 2(z-y)$. Реализуем ее также в виде функции (коэффициент 2 можно отбросить)."
   ],
   "metadata": {
    "collapsed": false
   }
  },
  {
   "cell_type": "code",
   "execution_count": 8,
   "outputs": [],
   "source": [
    "def bias(y, z):\n",
    "    return (y - z)"
   ],
   "metadata": {
    "collapsed": false,
    "pycharm": {
     "name": "#%%\n"
    }
   }
  },
  {
   "cell_type": "markdown",
   "source": [
    "Реализуем функцию обучения градиентного бустинга."
   ],
   "metadata": {
    "collapsed": false
   }
  },
  {
   "cell_type": "code",
   "execution_count": 9,
   "outputs": [],
   "source": [
    "def gb_fit(n_trees, max_depth, X_train, X_test, y_train, y_test, coefs, eta):\n",
    "    \n",
    "    # Деревья будем записывать в список\n",
    "    trees = []\n",
    "    \n",
    "    # Будем записывать ошибки на обучающей и тестовой выборке на каждой итерации в список\n",
    "    train_errors = []\n",
    "    test_errors = []\n",
    "    \n",
    "    for i in range(n_trees):\n",
    "        tree = DecisionTreeRegressor(max_depth=max_depth, random_state=42)\n",
    "\n",
    "        # инициализируем бустинг начальным алгоритмом, возвращающим ноль, \n",
    "        # поэтому первый алгоритм просто обучаем на выборке и добавляем в список\n",
    "        if len(trees) == 0:\n",
    "            # обучаем первое дерево на обучающей выборке\n",
    "            tree.fit(X_train, y_train)\n",
    "        else:\n",
    "            # Получим ответы на текущей композиции\n",
    "            target = gb_predict(X_train, trees, coefs, eta)\n",
    "            \n",
    "            # алгоритмы начиная со второго обучаем на сдвиг\n",
    "            tree.fit(X_train, bias(y_train, target))\n",
    "            \n",
    "        train_errors.append(mean_squared_error(y_train, gb_predict(X_train, trees, coefs, eta)))\n",
    "        test_errors.append(mean_squared_error(y_test, gb_predict(X_test, trees, coefs, eta)))\n",
    "\n",
    "        trees.append(tree)\n",
    "        \n",
    "    return trees, train_errors, test_errors"
   ],
   "metadata": {
    "collapsed": false,
    "pycharm": {
     "name": "#%%\n"
    }
   }
  },
  {
   "cell_type": "markdown",
   "source": [
    "Теперь обучим несколько моделей с разными параметрами и исследуем их поведение."
   ],
   "metadata": {
    "collapsed": false
   }
  },
  {
   "cell_type": "code",
   "execution_count": 10,
   "outputs": [],
   "source": [
    "# Число деревьев в ансамбле\n",
    "n_tree = 30\n",
    "\n",
    "# для простоты примем коэффициенты равными 1\n",
    "coefs = [1] * n_tree\n",
    "\n",
    "# Максимальная глубина деревьев\n",
    "max_depth = 4\n",
    "\n",
    "# Шаг\n",
    "eta = 0.2\n",
    "\n",
    "trees, train_errors, test_errors = gb_fit(n_tree, max_depth, X_train, X_test, y_train, y_test, coefs, eta)"
   ],
   "metadata": {
    "collapsed": false,
    "pycharm": {
     "name": "#%%\n"
    }
   }
  },
  {
   "cell_type": "code",
   "execution_count": 11,
   "outputs": [],
   "source": [
    "def evaluate_alg(X_train, X_test, y_train, y_test, trees, coefs, eta):\n",
    "    train_prediction = gb_predict(X_train, trees, coefs, eta)\n",
    "\n",
    "    print(f'Ошибка алгоритма из {n_tree} деревьев глубиной {max_depth} \\\n",
    "    с шагом {eta} на тренировочной выборке: {mean_squared_error(y_train, train_prediction)}')\n",
    "\n",
    "    test_prediction = gb_predict(X_test, trees, coefs, eta)\n",
    "\n",
    "    print(f'Ошибка алгоритма из {n_tree} деревьев глубиной {max_depth} \\\n",
    "    с шагом {eta} на тестовой выборке: {mean_squared_error(y_test, test_prediction)}')"
   ],
   "metadata": {
    "collapsed": false,
    "pycharm": {
     "name": "#%%\n"
    }
   }
  },
  {
   "cell_type": "code",
   "execution_count": 12,
   "outputs": [
    {
     "name": "stdout",
     "output_type": "stream",
     "text": [
      "Ошибка алгоритма из 30 деревьев глубиной 4     с шагом 0.2 на тренировочной выборке: 644.7575676062193\n",
      "Ошибка алгоритма из 30 деревьев глубиной 4     с шагом 0.2 на тестовой выборке: 3626.983227532738\n"
     ]
    }
   ],
   "source": [
    "evaluate_alg(X_train, X_test, y_train, y_test, trees, coefs, eta)"
   ],
   "metadata": {
    "collapsed": false,
    "pycharm": {
     "name": "#%%\n"
    }
   }
  },
  {
   "cell_type": "markdown",
   "source": [
    "Построим графики зависимости ошибки на обучающей и тестовой выборках от числа \n",
    "\n",
    "---\n",
    "\n",
    "итераций."
   ],
   "metadata": {
    "collapsed": false
   }
  },
  {
   "cell_type": "code",
   "execution_count": 13,
   "outputs": [],
   "source": [
    "def get_error_plot(n_trees, train_err, test_err):\n",
    "    plt.xlabel('Iteration number')\n",
    "    plt.ylabel('MSE')\n",
    "    plt.xlim(0, n_trees)\n",
    "    plt.plot(list(range(n_trees)), train_err, label='train error')\n",
    "    plt.plot(list(range(n_trees)), test_err, label='test error')\n",
    "    plt.legend(loc='upper right')\n",
    "    plt.show()"
   ],
   "metadata": {
    "collapsed": false,
    "pycharm": {
     "name": "#%%\n"
    }
   }
  },
  {
   "cell_type": "code",
   "execution_count": 14,
   "outputs": [],
   "source": [
    "import matplotlib.pyplot as plt"
   ],
   "metadata": {
    "collapsed": false,
    "pycharm": {
     "name": "#%%\n"
    }
   }
  },
  {
   "cell_type": "code",
   "execution_count": 15,
   "outputs": [
    {
     "data": {
      "text/plain": "<Figure size 432x288 with 1 Axes>",
      "image/png": "[encoded data removed]"
     },
     "metadata": {
      "needs_background": "light"
     },
     "output_type": "display_data"
    }
   ],
   "source": [
    "get_error_plot(n_tree, train_errors, test_errors)"
   ],
   "metadata": {
    "collapsed": false,
    "pycharm": {
     "name": "#%%\n"
    }
   }
  },
  {
   "cell_type": "markdown",
   "source": [
    "### Задание 1:\n",
    "Для реализованной в методичке модели градиентного бустинга построить графики зависимости ошибки от количества деревьев в ансамбле и от максимальной глубины деревьев. Сделать выводы о зависимости ошибки от этих параметров.\n"
   ],
   "metadata": {
    "collapsed": false
   }
  },
  {
   "cell_type": "code",
   "execution_count": 16,
   "outputs": [],
   "source": [
    "def get_n_trees_error_plot(n_trees, train_err, test_err):\n",
    "    plt.xlabel('n_trees')\n",
    "    plt.ylabel('MSE')\n",
    "    plt.xlim(n_trees[0], n_trees[-1])\n",
    "    plt.plot(n_trees, train_err, label='train error')\n",
    "    plt.plot(n_trees, test_err, label='test error')\n",
    "    plt.legend(loc='upper right')\n",
    "    plt.show()"
   ],
   "metadata": {
    "collapsed": false,
    "pycharm": {
     "name": "#%%\n"
    }
   }
  },
  {
   "cell_type": "code",
   "execution_count": 17,
   "outputs": [],
   "source": [
    "# Максимальная глубина деревьев\n",
    "max_depth = 4\n",
    "# Шаг\n",
    "eta = 0.2\n",
    "# Число деревьев в ансамбле\n",
    "n_trees = [5, 10, 15, 20, 25, 30, 50]\n",
    "train_last_errors = []\n",
    "test_last_errors = []"
   ],
   "metadata": {
    "collapsed": false,
    "pycharm": {
     "name": "#%%\n"
    }
   }
  },
  {
   "cell_type": "code",
   "execution_count": 18,
   "outputs": [
    {
     "name": "stdout",
     "output_type": "stream",
     "text": [
      "Ошибка алгоритма из 5 деревьев глубиной 4     с шагом 0.2 на тренировочной выборке: 4951.221949158835\n",
      "Ошибка алгоритма из 5 деревьев глубиной 4     с шагом 0.2 на тестовой выборке: 5551.085864020684\n",
      "Ошибка алгоритма из 10 деревьев глубиной 4     с шагом 0.2 на тренировочной выборке: 1774.0128357177193\n",
      "Ошибка алгоритма из 10 деревьев глубиной 4     с шагом 0.2 на тестовой выборке: 3348.9363480608636\n",
      "Ошибка алгоритма из 15 деревьев глубиной 4     с шагом 0.2 на тренировочной выборке: 1175.496776747453\n",
      "Ошибка алгоритма из 15 деревьев глубиной 4     с шагом 0.2 на тестовой выборке: 3235.013650128338\n",
      "Ошибка алгоритма из 20 деревьев глубиной 4     с шагом 0.2 на тренировочной выборке: 909.1069412902701\n",
      "Ошибка алгоритма из 20 деревьев глубиной 4     с шагом 0.2 на тестовой выборке: 3434.2333207212014\n",
      "Ошибка алгоритма из 25 деревьев глубиной 4     с шагом 0.2 на тренировочной выборке: 783.9786569126367\n",
      "Ошибка алгоритма из 25 деревьев глубиной 4     с шагом 0.2 на тестовой выборке: 3505.8155986542665\n",
      "Ошибка алгоритма из 30 деревьев глубиной 4     с шагом 0.2 на тренировочной выборке: 644.7575676062193\n",
      "Ошибка алгоритма из 30 деревьев глубиной 4     с шагом 0.2 на тестовой выборке: 3626.983227532738\n",
      "Ошибка алгоритма из 50 деревьев глубиной 4     с шагом 0.2 на тренировочной выборке: 644.7575676062193\n",
      "Ошибка алгоритма из 50 деревьев глубиной 4     с шагом 0.2 на тестовой выборке: 3626.983227532738\n"
     ]
    }
   ],
   "source": [
    "for n_tree in n_trees:\n",
    "    trees, train_errors, test_errors = gb_fit(n_tree, max_depth, X_train, X_test, y_train, y_test, coefs, eta)\n",
    "    evaluate_alg(X_train, X_test, y_train, y_test, trees, coefs, eta)\n",
    "    train_last_errors.append(train_errors[-1])\n",
    "    test_last_errors.append(test_errors[-1])"
   ],
   "metadata": {
    "collapsed": false,
    "pycharm": {
     "name": "#%%\n"
    }
   }
  },
  {
   "cell_type": "code",
   "execution_count": 19,
   "outputs": [
    {
     "data": {
      "text/plain": "<Figure size 432x288 with 1 Axes>",
      "image/png": "[encoded data removed]"
     },
     "metadata": {
      "needs_background": "light"
     },
     "output_type": "display_data"
    }
   ],
   "source": [
    "get_n_trees_error_plot(n_trees, train_last_errors, test_last_errors)"
   ],
   "metadata": {
    "collapsed": false,
    "pycharm": {
     "name": "#%%\n"
    }
   }
  },
  {
   "cell_type": "markdown",
   "source": [
    "При колчестве деревьев выше 15 ошибка на тестовой выборке не уменьшается, а переобучение только увеличивается."
   ],
   "metadata": {
    "collapsed": false
   }
  },
  {
   "cell_type": "code",
   "execution_count": 20,
   "outputs": [],
   "source": [
    "def get_depth_error_plot(max_depths, train_err, test_err):\n",
    "    plt.xlabel('max depth')\n",
    "    plt.ylabel('MSE')\n",
    "    plt.xlim(max_depths[0], max_depths[-1])\n",
    "    plt.plot(max_depths, train_err, label='train error')\n",
    "    plt.plot(max_depths, test_err, label='test error')\n",
    "    plt.legend(loc='center right')\n",
    "    plt.show()"
   ],
   "metadata": {
    "collapsed": false,
    "pycharm": {
     "name": "#%%\n"
    }
   }
  },
  {
   "cell_type": "code",
   "execution_count": 21,
   "outputs": [],
   "source": [
    "# Число деревьев в ансамбле\n",
    "n_tree = 20\n",
    "# Шаг\n",
    "eta = 0.2\n",
    "# Максимальная глубина деревьев\n",
    "max_depths = [2, 3, 4, 5, 6, 7, 8]\n",
    "train_last_errors = []\n",
    "test_last_errors = []"
   ],
   "metadata": {
    "collapsed": false,
    "pycharm": {
     "name": "#%%\n"
    }
   }
  },
  {
   "cell_type": "code",
   "execution_count": 22,
   "outputs": [
    {
     "name": "stdout",
     "output_type": "stream",
     "text": [
      "Ошибка алгоритма из 20 деревьев глубиной 2     с шагом 0.2 на тренировочной выборке: 2166.7734226248813\n",
      "Ошибка алгоритма из 20 деревьев глубиной 2     с шагом 0.2 на тестовой выборке: 2916.4376211683502\n",
      "Ошибка алгоритма из 20 деревьев глубиной 3     с шагом 0.2 на тренировочной выборке: 1541.3115184981552\n",
      "Ошибка алгоритма из 20 деревьев глубиной 3     с шагом 0.2 на тестовой выборке: 3036.097347448995\n",
      "Ошибка алгоритма из 20 деревьев глубиной 4     с шагом 0.2 на тренировочной выборке: 909.1069412902701\n",
      "Ошибка алгоритма из 20 деревьев глубиной 4     с шагом 0.2 на тестовой выборке: 3434.2333207212014\n",
      "Ошибка алгоритма из 20 деревьев глубиной 5     с шагом 0.2 на тренировочной выборке: 368.0100368884071\n",
      "Ошибка алгоритма из 20 деревьев глубиной 5     с шагом 0.2 на тестовой выборке: 3579.1719448319054\n",
      "Ошибка алгоритма из 20 деревьев глубиной 6     с шагом 0.2 на тренировочной выборке: 137.3711560164108\n",
      "Ошибка алгоритма из 20 деревьев глубиной 6     с шагом 0.2 на тестовой выборке: 3814.0124011940743\n",
      "Ошибка алгоритма из 20 деревьев глубиной 7     с шагом 0.2 на тренировочной выборке: 37.88631765072563\n",
      "Ошибка алгоритма из 20 деревьев глубиной 7     с шагом 0.2 на тестовой выборке: 3876.4557612179547\n",
      "Ошибка алгоритма из 20 деревьев глубиной 8     с шагом 0.2 на тренировочной выборке: 10.596763608742462\n",
      "Ошибка алгоритма из 20 деревьев глубиной 8     с шагом 0.2 на тестовой выборке: 3561.1032140679936\n"
     ]
    }
   ],
   "source": [
    "for max_depth in max_depths:\n",
    "    trees, train_errors, test_errors = gb_fit(n_tree, max_depth, X_train, X_test, y_train, y_test, coefs, eta)\n",
    "    evaluate_alg(X_train, X_test, y_train, y_test, trees, coefs, eta)\n",
    "    train_last_errors.append(train_errors[-1])\n",
    "    test_last_errors.append(test_errors[-1])"
   ],
   "metadata": {
    "collapsed": false,
    "pycharm": {
     "name": "#%%\n"
    }
   }
  },
  {
   "cell_type": "code",
   "execution_count": 23,
   "outputs": [
    {
     "data": {
      "text/plain": "<Figure size 432x288 with 1 Axes>",
      "image/png": "[encoded data removed]"
     },
     "metadata": {
      "needs_background": "light"
     },
     "output_type": "display_data"
    }
   ],
   "source": [
    "get_depth_error_plot(max_depths, train_last_errors, test_last_errors)"
   ],
   "metadata": {
    "collapsed": false,
    "pycharm": {
     "name": "#%%\n"
    }
   }
  },
  {
   "cell_type": "markdown",
   "source": [
    "Увеличение глубины только увеличивает ошибку.\n",
    "Для градиентного бустинга нужны простые модели"
   ],
   "metadata": {
    "collapsed": false,
    "pycharm": {
     "name": "#%% md\n"
    }
   }
  },
  {
   "cell_type": "markdown",
   "source": [
    "### Задание 2: (опция).\n",
    "Модифицировать реализованный алгоритм, чтобы получился стохастический градиентный бустинг. Размер подвыборки принять равным 0.5. Сравнить на одном графике кривые изменения ошибки на тестовой выборке в зависимости от числа итераций."
   ],
   "metadata": {
    "collapsed": false
   }
  },
  {
   "cell_type": "code",
   "execution_count": 24,
   "outputs": [],
   "source": [
    "# случайная подвыборка\n",
    "def get_subsample(X, y, rate=0.5):\n",
    "    shuffled = np.append(X, np.copy(y).reshape(len(y), 1), axis=1)\n",
    "    np.random.shuffle(shuffled)\n",
    "    i_slice = int(rate * len(X))\n",
    "    return shuffled[: i_slice, :-1], shuffled[: i_slice, -1]"
   ],
   "metadata": {
    "collapsed": false,
    "pycharm": {
     "name": "#%%\n"
    }
   }
  },
  {
   "cell_type": "code",
   "execution_count": 25,
   "outputs": [],
   "source": [
    "def gb_fit(n_trees, max_depth, X_train, X_test, y_train, y_test, coefs, eta, subsample=0.5):\n",
    "\n",
    "    # Деревья будем записывать в список\n",
    "    trees = []\n",
    "\n",
    "    # Будем записывать ошибки на обучающей и тестовой выборке на каждой итерации в список\n",
    "    train_errors = []\n",
    "    test_errors = []\n",
    "\n",
    "    for i in range(n_trees):\n",
    "        tree = DecisionTreeRegressor(max_depth=max_depth, random_state=42)\n",
    "\n",
    "        #\n",
    "        X_shuffled, y_shuffled = get_subsample(X_train, y_train, rate=subsample)\n",
    "\n",
    "        # инициализируем бустинг начальным алгоритмом, возвращающим ноль,\n",
    "        # поэтому первый алгоритм просто обучаем на выборке и добавляем в список\n",
    "        if len(trees) == 0:\n",
    "            # обучаем первое дерево на обучающей выборке\n",
    "            tree.fit(X_shuffled, y_shuffled)\n",
    "        else:\n",
    "            # Получим ответы на текущей композиции\n",
    "            target = gb_predict(X_shuffled, trees, coefs, eta)\n",
    "\n",
    "            # алгоритмы начиная со второго обучаем на сдвиг\n",
    "            tree.fit(X_shuffled, bias(y_shuffled, target))\n",
    "\n",
    "        train_errors.append(mean_squared_error(y_shuffled, gb_predict(X_shuffled, trees, coefs, eta)))\n",
    "        test_errors.append(mean_squared_error(y_test, gb_predict(X_test, trees, coefs, eta)))\n",
    "\n",
    "        trees.append(tree)\n",
    "\n",
    "    return trees, train_errors, test_errors"
   ],
   "metadata": {
    "collapsed": false,
    "pycharm": {
     "name": "#%%\n"
    }
   }
  },
  {
   "cell_type": "code",
   "execution_count": 26,
   "outputs": [],
   "source": [
    "# Число деревьев в ансамбле\n",
    "n_tree = 30\n",
    "\n",
    "# для простоты примем коэффициенты равными 1\n",
    "coefs = [1] * n_tree\n",
    "\n",
    "# Максимальная глубина деревьев\n",
    "max_depth = 4\n",
    "\n",
    "# Шаг\n",
    "eta = 0.2\n",
    "\n",
    "trees, train_errors, test_errors = gb_fit(n_tree, max_depth, X_train, X_test, y_train, y_test, coefs, eta)"
   ],
   "metadata": {
    "collapsed": false,
    "pycharm": {
     "name": "#%%\n"
    }
   }
  },
  {
   "cell_type": "code",
   "execution_count": 27,
   "outputs": [
    {
     "name": "stdout",
     "output_type": "stream",
     "text": [
      "Ошибка алгоритма из 30 деревьев глубиной 4     с шагом 0.2 на тренировочной выборке: 791.6663134999254\n",
      "Ошибка алгоритма из 30 деревьев глубиной 4     с шагом 0.2 на тестовой выборке: 3595.6087840296054\n"
     ]
    }
   ],
   "source": [
    "evaluate_alg(X_train, X_test, y_train, y_test, trees, coefs, eta)"
   ],
   "metadata": {
    "collapsed": false,
    "pycharm": {
     "name": "#%%\n"
    }
   }
  },
  {
   "cell_type": "code",
   "execution_count": 28,
   "outputs": [
    {
     "data": {
      "text/plain": "<Figure size 432x288 with 1 Axes>",
      "image/png": "[encoded data removed]"
     },
     "metadata": {
      "needs_background": "light"
     },
     "output_type": "display_data"
    }
   ],
   "source": [
    "get_error_plot(n_tree, train_errors, test_errors)"
   ],
   "metadata": {
    "collapsed": false,
    "pycharm": {
     "name": "#%%\n"
    }
   }
  },
  {
   "cell_type": "markdown",
   "source": [
    "почти тот же результат за меньшее время, выгода есть"
   ],
   "metadata": {
    "collapsed": false
   }
  }
 ]
}